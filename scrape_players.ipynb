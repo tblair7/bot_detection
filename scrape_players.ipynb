{
 "cells": [
  {
   "cell_type": "code",
   "execution_count": 1,
   "metadata": {},
   "outputs": [],
   "source": [
    "import requests\n",
    "import pandas\n",
    "import sqlite3 as sql\n",
    "from bs4 import BeautifulSoup\n",
    "from datetime import datetime"
   ]
  },
  {
   "cell_type": "code",
   "execution_count": 2,
   "metadata": {},
   "outputs": [],
   "source": [
    "conn = sql.connect('data/osrs.db')"
   ]
  },
  {
   "cell_type": "code",
   "execution_count": 39,
   "metadata": {},
   "outputs": [],
   "source": [
    "def get_player(conn, skill):\n",
    "    # base url for api request\n",
    "    player_url_base = 'https://secure.runescape.com/m=hiscore_oldschool/index_lite.ws?player='\n",
    "    \n",
    "    skills = [\"Overall\", \"Attack\", \"Defence\", \"Strength\", \"Hitpoints\", \"Ranged\", \"Prayer\", \"Magic\", \"Cooking\",\n",
    "              \"Woodcutting\", \"Fletching\", \"Fishing\", \"Firemaking\", \"Crafting\", \"Smithing\", \"Mining\", \"Herblore\",\n",
    "              \"Agility\", \"Thieving\", \"Slayer\", \"Farming\", \"Runecraft\", \"Hunter\", \"Construction\"]\n",
    "    skill_name = skills[skill]\n",
    "    print(skill_name)\n",
    "    \n",
    "    players = conn.execute('''SELECT name from players_name WHERE skill = (?)''', (skill_name,)).fetchall()\n",
    "    num_players = len(players)\n",
    "    \n",
    "    now = datetime.utcnow()\n",
    "    time = '{0}-{1:02d}-{2:02d} {3:02d}:{4:02d}:{5:02d}'.format(now.year, now.month, now.day, \n",
    "                                                                now.hour, now.minute, now.second)\n",
    "    failed = []\n",
    "    num = 0\n",
    "    \n",
    "    for player in players:\n",
    "        # sql returns list of tuples, this isolates the name\n",
    "        name = player[0]\n",
    "        url = player_url_base + name\n",
    "        \n",
    "        num += 1\n",
    "        if not num%20:\n",
    "            print('Players scraped: {0}/{1}'.format(i, num_players), datetime.utcnow() - now)\n",
    "        else:\n",
    "            pass\n",
    "        \n",
    "        try:\n",
    "            page = requests.get(url).text.replace(u'\\n', u' ')\n",
    "            skills = [i.split(',') for i in page.split()]\n",
    "            xp = [i[2] for i in skills[0:24]]\n",
    "            rank = [i[0] for i in skills[0:24]]\n",
    "        except:\n",
    "            print(name)\n",
    "            failed.append(name)\n",
    "            continue\n",
    "            \n",
    "        conn.execute('''INSERT INTO players_xp VALUES(?,?,?,?,?,?,?,?,?,?,?,?,?,?,?,?,?,?,?,?,?,?,?,?,?,?)''', [name, time] + xp)\n",
    "        conn.execute('''INSERT INTO players_rank VALUES(?,?,?,?,?,?,?,?,?,?,?,?,?,?,?,?,?,?,?,?,?,?,?,?,?,?)''', [name, time] + rank)\n",
    "            \n",
    "    return failed"
   ]
  },
  {
   "cell_type": "code",
   "execution_count": null,
   "metadata": {},
   "outputs": [
    {
     "name": "stdout",
     "output_type": "stream",
     "text": [
      "Reimported scrape_hs\n",
      "Players scraped: 20/70570 0:00:26.730009\n",
      "Players scraped: 40/70570 0:00:58.681385\n",
      "Axe_Smash101\n",
      "MattsMauler\n",
      "Players scraped: 60/70570 0:01:28.377448\n",
      "Emperator\n",
      "Mabaza\n",
      "100 hp\n",
      "Sushi Phil\n"
     ]
    }
   ],
   "source": [
    "import importlib\n",
    "\n",
    "try:\n",
    "    importlib.reload(scrape_hs)\n",
    "    print('Reimported scrape_hs')\n",
    "except:\n",
    "    import scrape_hs\n",
    "    print('First import of scrape_hs')\n",
    "\n",
    "failed = scrape_hs.get_player(conn, 23)"
   ]
  },
  {
   "cell_type": "code",
   "execution_count": 45,
   "metadata": {},
   "outputs": [],
   "source": [
    "#conn.execute('''DROP TABLE players_xp''')\n",
    "#conn.execute('''DROP TABLE players_rank''')\n",
    "#conn.commit()"
   ]
  },
  {
   "cell_type": "code",
   "execution_count": 4,
   "metadata": {},
   "outputs": [],
   "source": [
    "skills = [\"Overall\",\n",
    "          \"Attack\",\n",
    "          \"Defence\",\n",
    "          \"Strength\",\n",
    "          \"Hitpoints\",\n",
    "          \"Ranged\",\n",
    "          \"Prayer\"\n",
    "          \"Magic\",\n",
    "          \"Cooking\",\n",
    "          \"Woodcutting\",\n",
    "          \"Fletching\",\n",
    "          \"Fishing\",\n",
    "          \"Firemaking\",\n",
    "          \"Crafting\",\n",
    "          \"Smithing\",\n",
    "          \"Mining\",\n",
    "          \"Herblore\",\n",
    "          \"Agility\",\n",
    "          \"Thieving\",\n",
    "          \"Slayer\",\n",
    "          \"Farming\",\n",
    "          \"Runecraft\",\n",
    "          \"Hunter\",\n",
    "          \"Construction\"]"
   ]
  },
  {
   "cell_type": "code",
   "execution_count": 14,
   "metadata": {},
   "outputs": [],
   "source": [
    "page = requests.get('https://secure.runescape.com/m=hiscore_oldschool/index_lite.ws?player=HARDCORE XY').text.replace(u'\\n', u' ')"
   ]
  },
  {
   "cell_type": "code",
   "execution_count": 23,
   "metadata": {},
   "outputs": [
    {
     "data": {
      "text/plain": [
       "[('Porszivo', '2019-05-22 19:34:35', 'Construction', None)]"
      ]
     },
     "execution_count": 23,
     "metadata": {},
     "output_type": "execute_result"
    }
   ],
   "source": [
    "db_len = conn.execute('''SELECT * from players_name WHERE name = \"Porszivo\"''').fetchall()\n",
    "db_len"
   ]
  },
  {
   "cell_type": "code",
   "execution_count": 11,
   "metadata": {},
   "outputs": [],
   "source": [
    "now = '2019-05-22 19:34:35'\n",
    "skill = 'Construction'"
   ]
  },
  {
   "cell_type": "code",
   "execution_count": 17,
   "metadata": {},
   "outputs": [
    {
     "data": {
      "text/plain": [
       "['Porszivo',\n",
       " '11 Chaos 19',\n",
       " 'Pritt Glue L',\n",
       " 'AWildGirlToo',\n",
       " 'Chuck Norse',\n",
       " 'KUTU654',\n",
       " 'Leszivo',\n",
       " 'Bart',\n",
       " 'ProjetoIAs',\n",
       " '33 Pown 1080',\n",
       " 'Batin',\n",
       " 'Pavla',\n",
       " '85undead2443',\n",
       " 'person7777',\n",
       " 'ampaseff77',\n",
       " 'Bought Gear',\n",
       " 'Darkroc1792',\n",
       " 'Firemagic707',\n",
       " 'HA44DUH',\n",
       " '3NNE',\n",
       " 'Pk God 37',\n",
       " 'dief6555',\n",
       " 'acarunis',\n",
       " 'cfuiza12',\n",
       " 'blastmar804',\n",
       " 'JumluAkut',\n",
       " 'Poisonrun930',\n",
       " '99angelic891',\n",
       " 'Silverlum5',\n",
       " 'Petobismol',\n",
       " 'bo0lang',\n",
       " 'Butt Dingus',\n",
       " 'DirtCheese',\n",
       " 'planks llc',\n",
       " 'More to Gain',\n",
       " 'NotKurokaeru',\n",
       " 'Earthwalk520',\n",
       " 'lordwe3333',\n",
       " 'UCLA Dorms',\n",
       " 'elgatu',\n",
       " 'Breaklion877',\n",
       " '1 PIayer',\n",
       " 'slayerxp',\n",
       " 'MARLINA12',\n",
       " 'REYMASTERRIO',\n",
       " 'REAGE86',\n",
       " 'DIG6LANG',\n",
       " 'dseklbkspp3',\n",
       " 'HARDAccot',\n",
       " 'UyeUye',\n",
       " 'Blastmars804',\n",
       " 'ZomFCKBEE',\n",
       " '15devout1308',\n",
       " 'Firemagic707',\n",
       " 'HCByTheWay']"
      ]
     },
     "execution_count": 17,
     "metadata": {},
     "output_type": "execute_result"
    }
   ],
   "source": [
    "ingame_names = 'Porszivo, 11 Chaos 19, Pritt Glue L, AWildGirlToo, Chuck Norse, KUTU654, Leszivo, Bart, ProjetoIAs, 33 Pown 1080, Batin, Pavla, 85undead2443, person7777, ampaseff77, Bought Gear, Darkroc1792, Firemagic707, HA44DUH, 3NNE, Pk God 37, dief6555, acarunis, cfuiza12, blastmar804, JumluAkut, Poisonrun930, 99angelic891, Silverlum5, Petobismol, bo0lang, Butt Dingus, DirtCheese, planks llc, More to Gain, NotKurokaeru, Earthwalk520, lordwe3333, UCLA Dorms, elgatu, Breaklion877, 1 PIayer, slayerxp, MARLINA12, REYMASTERRIO, REAGE86, DIG6LANG, dseklbkspp3, HARDAccot, UyeUye, Blastmars804, ZomFCKBEE, 15devout1308, Firemagic707, HCByTheWay'.split(',')\n",
    "names = [i.strip() for i in ingame_names]\n",
    "names"
   ]
  },
  {
   "cell_type": "code",
   "execution_count": 19,
   "metadata": {},
   "outputs": [
    {
     "name": "stdout",
     "output_type": "stream",
     "text": [
      "Porszivo\n",
      "11 Chaos 19\n",
      "Pritt Glue L\n",
      "AWildGirlToo\n",
      "Chuck Norse\n",
      "KUTU654\n",
      "Leszivo\n",
      "Bart\n",
      "ProjetoIAs\n",
      "33 Pown 1080\n",
      "Batin\n",
      "Pavla\n",
      "85undead2443\n",
      "person7777\n",
      "ampaseff77\n",
      "Bought Gear\n",
      "Darkroc1792\n",
      "Firemagic707\n",
      "HA44DUH\n",
      "3NNE\n",
      "Pk God 37\n",
      "dief6555\n",
      "acarunis\n",
      "cfuiza12\n",
      "blastmar804\n",
      "JumluAkut\n",
      "Poisonrun930\n",
      "99angelic891\n",
      "Silverlum5\n",
      "Petobismol\n",
      "bo0lang\n",
      "Butt Dingus\n",
      "DirtCheese\n",
      "planks llc\n",
      "More to Gain\n",
      "NotKurokaeru\n",
      "Earthwalk520\n",
      "lordwe3333\n",
      "UCLA Dorms\n",
      "elgatu\n",
      "Breaklion877\n",
      "1 PIayer\n",
      "slayerxp\n",
      "MARLINA12\n",
      "REYMASTERRIO\n",
      "REAGE86\n",
      "DIG6LANG\n",
      "dseklbkspp3\n",
      "HARDAccot\n",
      "UyeUye\n",
      "Blastmars804\n",
      "ZomFCKBEE\n",
      "15devout1308\n",
      "Firemagic707\n",
      "HCByTheWay\n"
     ]
    }
   ],
   "source": [
    "for name in names:\n",
    "    conn.execute('''INSERT INTO players_name(name, date, skill) VALUES (?,?,?)''',(name, now, skill))\n",
    "    print(name)"
   ]
  },
  {
   "cell_type": "code",
   "execution_count": 20,
   "metadata": {},
   "outputs": [],
   "source": [
    "conn.commit()"
   ]
  },
  {
   "cell_type": "code",
   "execution_count": null,
   "metadata": {},
   "outputs": [],
   "source": []
  },
  {
   "cell_type": "code",
   "execution_count": 24,
   "metadata": {},
   "outputs": [],
   "source": [
    "page = requests.get('https://secure.runescape.com/m=hiscore_oldschool/index_lite.ws?player=Arlind').text.replace(u'\\n', u' ')"
   ]
  },
  {
   "cell_type": "code",
   "execution_count": 28,
   "metadata": {},
   "outputs": [
    {
     "data": {
      "text/plain": [
       "[['218', '2277', '1251270141'],\n",
       " ['275', '99', '102374790'],\n",
       " ['315', '99', '72521029'],\n",
       " ['559', '99', '83855243'],\n",
       " ['269', '99', '124883911'],\n",
       " ['1802', '99', '69995591'],\n",
       " ['222', '99', '20592389'],\n",
       " ['262', '99', '61720577'],\n",
       " ['2717', '99', '34959039'],\n",
       " ['1788', '99', '30735727'],\n",
       " ['94', '99', '200000000'],\n",
       " ['3212', '99', '20179420'],\n",
       " ['1265', '99', '33468400'],\n",
       " ['377', '99', '29591353'],\n",
       " ['295', '99', '50886424'],\n",
       " ['107', '99', '67178566'],\n",
       " ['338', '99', '22924495'],\n",
       " ['694', '99', '21326200'],\n",
       " ['2624', '99', '20613544'],\n",
       " ['100', '99', '73880957'],\n",
       " ['979', '99', '44244120'],\n",
       " ['576', '99', '23532243'],\n",
       " ['2194', '99', '21769630'],\n",
       " ['176', '99', '20036493'],\n",
       " ['109219', '13'],\n",
       " ['-1', '-1'],\n",
       " ['68355', '500'],\n",
       " ['3228', '1285'],\n",
       " ['-1', '-1'],\n",
       " ['6362', '182'],\n",
       " ['23029', '180'],\n",
       " ['647', '713'],\n",
       " ['3295', '120'],\n",
       " ['2411', '90']]"
      ]
     },
     "execution_count": 28,
     "metadata": {},
     "output_type": "execute_result"
    }
   ],
   "source": [
    "skills = [i.split(',') for i in page.split()]\n",
    "skills"
   ]
  },
  {
   "cell_type": "code",
   "execution_count": 35,
   "metadata": {},
   "outputs": [
    {
     "data": {
      "text/plain": [
       "['2277',\n",
       " '99',\n",
       " '99',\n",
       " '99',\n",
       " '99',\n",
       " '99',\n",
       " '99',\n",
       " '99',\n",
       " '99',\n",
       " '99',\n",
       " '99',\n",
       " '99',\n",
       " '99',\n",
       " '99',\n",
       " '99',\n",
       " '99',\n",
       " '99',\n",
       " '99',\n",
       " '99',\n",
       " '99',\n",
       " '99',\n",
       " '99',\n",
       " '99',\n",
       " '99']"
      ]
     },
     "execution_count": 35,
     "metadata": {},
     "output_type": "execute_result"
    }
   ],
   "source": [
    "xp = [i[1] for i in skills[0:24]]\n",
    "xp"
   ]
  },
  {
   "cell_type": "code",
   "execution_count": 45,
   "metadata": {},
   "outputs": [
    {
     "data": {
      "text/plain": [
       "['dia',\n",
       " '2277',\n",
       " '99',\n",
       " '99',\n",
       " '99',\n",
       " '99',\n",
       " '99',\n",
       " '99',\n",
       " '99',\n",
       " '99',\n",
       " '99',\n",
       " '99',\n",
       " '99',\n",
       " '99',\n",
       " '99',\n",
       " '99',\n",
       " '99',\n",
       " '99',\n",
       " '99',\n",
       " '99',\n",
       " '99',\n",
       " '99',\n",
       " '99',\n",
       " '99',\n",
       " '99']"
      ]
     },
     "execution_count": 45,
     "metadata": {},
     "output_type": "execute_result"
    }
   ],
   "source": [
    "to_insert = ['dia'] + xp\n",
    "to_insert"
   ]
  },
  {
   "cell_type": "code",
   "execution_count": 37,
   "metadata": {},
   "outputs": [],
   "source": [
    "conn = sql.connect('my_db.db')"
   ]
  },
  {
   "cell_type": "code",
   "execution_count": 52,
   "metadata": {},
   "outputs": [],
   "source": [
    "conn.close()"
   ]
  },
  {
   "cell_type": "code",
   "execution_count": 38,
   "metadata": {},
   "outputs": [
    {
     "data": {
      "text/plain": [
       "<sqlite3.Cursor at 0x11642d0a0>"
      ]
     },
     "execution_count": 38,
     "metadata": {},
     "output_type": "execute_result"
    }
   ],
   "source": [
    "conn.execute('''CREATE TABLE test(\n",
    "name TEXT NOT NULL,\n",
    "                    overall INTEGER,\n",
    "                    attack INTEGER,\n",
    "                    defence INTEGER,\n",
    "                    strength INTEGER,\n",
    "                    hitpoints INTEGER,\n",
    "                    ranged INTEGER,\n",
    "                    prayer INTEGER,\n",
    "                    magic INTEGER,\n",
    "                    cooking INTEGER,\n",
    "                    woodcutting INTEGER,\n",
    "                    fletching INTEGER,\n",
    "                    fishing INTEGER,\n",
    "                    firemaking INTEGER,\n",
    "                    crafting INTEGER,\n",
    "                    smithing INTEGER,\n",
    "                    mining INTEGER,\n",
    "                    herblore INTEGER,\n",
    "                    agility INTEGER,\n",
    "                    thieving INTEGER,\n",
    "                    slayer INTEGER,\n",
    "                    farming INTEGER,\n",
    "                    runecraft INTEGER,\n",
    "                    hunter INTEGER,\n",
    "                    construction INTEGER)''')"
   ]
  },
  {
   "cell_type": "code",
   "execution_count": 49,
   "metadata": {},
   "outputs": [
    {
     "data": {
      "text/plain": [
       "<sqlite3.Cursor at 0x1164a6570>"
      ]
     },
     "execution_count": 49,
     "metadata": {},
     "output_type": "execute_result"
    }
   ],
   "source": [
    "conn.execute('''INSERT INTO test VALUES(?,?,?,?,?,?,?,?,?,?,?,?,?,?,?,?,?,?,?,?,?,?,?,?,?)''', ['me'] + xp)"
   ]
  },
  {
   "cell_type": "code",
   "execution_count": 50,
   "metadata": {},
   "outputs": [
    {
     "data": {
      "text/plain": [
       "[('Arlind',), ('dia',), ('me',)]"
      ]
     },
     "execution_count": 50,
     "metadata": {},
     "output_type": "execute_result"
    }
   ],
   "source": [
    "conn.execute('''SELECT name FROM test''').fetchall()"
   ]
  },
  {
   "cell_type": "code",
   "execution_count": null,
   "metadata": {},
   "outputs": [],
   "source": []
  }
 ],
 "metadata": {
  "kernelspec": {
   "display_name": "Python 3",
   "language": "python",
   "name": "python3"
  },
  "language_info": {
   "codemirror_mode": {
    "name": "ipython",
    "version": 3
   },
   "file_extension": ".py",
   "mimetype": "text/x-python",
   "name": "python",
   "nbconvert_exporter": "python",
   "pygments_lexer": "ipython3",
   "version": "3.7.3"
  }
 },
 "nbformat": 4,
 "nbformat_minor": 2
}
